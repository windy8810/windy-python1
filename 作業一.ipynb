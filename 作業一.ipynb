{
 "cells": [
  {
   "cell_type": "code",
   "execution_count": 8,
   "metadata": {},
   "outputs": [],
   "source": [
    "%matplotlib inline\n",
    "import numpy as np\n",
    "import matplotlib.pyplot as plt\n"
   ]
  },
  {
   "cell_type": "code",
   "execution_count": 9,
   "metadata": {},
   "outputs": [],
   "source": [
    "from tensorflow.keras.datasets import fashion_mnist\n"
   ]
  },
  {
   "cell_type": "code",
   "execution_count": 13,
   "metadata": {},
   "outputs": [
    {
     "name": "stdout",
     "output_type": "stream",
     "text": [
      "Downloading data from https://storage.googleapis.com/tensorflow/tf-keras-datasets/train-labels-idx1-ubyte.gz\n",
      "32768/29515 [=================================] - 0s 4us/step\n",
      "Downloading data from https://storage.googleapis.com/tensorflow/tf-keras-datasets/train-images-idx3-ubyte.gz\n",
      "26427392/26421880 [==============================] - 43s 2us/step\n",
      "Downloading data from https://storage.googleapis.com/tensorflow/tf-keras-datasets/t10k-labels-idx1-ubyte.gz\n",
      "8192/5148 [===============================================] - 0s 2us/step\n",
      "Downloading data from https://storage.googleapis.com/tensorflow/tf-keras-datasets/t10k-images-idx3-ubyte.gz\n",
      "4423680/4422102 [==============================] - 5s 1us/step\n"
     ]
    }
   ],
   "source": [
    "(x_train, y_train), (x_test, y_test) = fashion_mnist.load_data()"
   ]
  },
  {
   "cell_type": "code",
   "execution_count": 14,
   "metadata": {},
   "outputs": [],
   "source": [
    "class_names = ['T-shirt/top', 'Trouser', 'Pullover', 'Dress', 'Coat',\n",
    "               'Sandal', 'Shirt', 'Sneaker', 'Bag', 'Ankle boot']"
   ]
  },
  {
   "cell_type": "code",
   "execution_count": 15,
   "metadata": {},
   "outputs": [
    {
     "data": {
      "text/plain": [
       "60000"
      ]
     },
     "execution_count": 15,
     "metadata": {},
     "output_type": "execute_result"
    }
   ],
   "source": [
    "len(x_train)"
   ]
  },
  {
   "cell_type": "code",
   "execution_count": 16,
   "metadata": {},
   "outputs": [
    {
     "data": {
      "text/plain": [
       "10000"
      ]
     },
     "execution_count": 16,
     "metadata": {},
     "output_type": "execute_result"
    }
   ],
   "source": [
    "len(x_test)"
   ]
  },
  {
   "cell_type": "code",
   "execution_count": 17,
   "metadata": {},
   "outputs": [
    {
     "data": {
      "text/plain": [
       "array([[  0,   0,   0,   0,   0,   0,   0,   0,   0,   0,   0,   0,   0,\n",
       "          0,   0,   0,   0,   0,   0,   0,   0,   0,   0,   0,   0,   0,\n",
       "          0,   0],\n",
       "       [  0,   0,   0,   0,   0,   0,   0,   0,   0,   0,   0,   0,   0,\n",
       "          0,   0,   0,   0,   0,   0,   0,   0,   0,   0,   0,   0,   0,\n",
       "          0,   0],\n",
       "       [  0,   0,   0,   0,   0,   0,   0,   0,   0,   0,   0,   0,   0,\n",
       "          0,   0,   0,   0,   0,   0,   0,   0,   0,   0,   0,   0,   0,\n",
       "          0,   0],\n",
       "       [  0,   0,   0,   0,   0,   0,   0,   0,   0,   0,   0,   0,   0,\n",
       "          0,   0,   0,   0,   0,   0,   0,   0,   0,   0,   0,   0,   0,\n",
       "          0,   0],\n",
       "       [  0,   0,   0,   0,   0,   0,   0,   0,   0,   0,   0,   0,   0,\n",
       "          0,   0,   0,   0,   0,   0,   0,   0,   0,   0,   0,   0,   0,\n",
       "          0,   0],\n",
       "       [  0,   0,   0,  42,  41,  52,  52,  58,  28,   0,  17,   0,   0,\n",
       "          0,   0,   0,   0,   0,   0,   0,   0,   0,   0,   0,   0,   0,\n",
       "          0,   0],\n",
       "       [  0, 107, 156, 165, 187, 144, 148, 204, 186, 117, 122,  44,  15,\n",
       "         12,  14,  20,  29,  36,  51,  50,  49,  42,  52,  73,  98, 115,\n",
       "        133,  42],\n",
       "       [ 28, 167, 163, 144, 134, 126, 110,  99,  99, 117, 128, 150, 165,\n",
       "        159, 156, 161, 161, 150, 149, 149, 158, 170, 182, 170, 182, 187,\n",
       "        209, 161],\n",
       "       [ 24, 150, 139, 142, 144, 140, 148, 163, 166, 171, 166, 164, 163,\n",
       "        172, 174, 169, 165, 163, 158, 163, 170, 172, 174, 175, 181, 177,\n",
       "        197, 138],\n",
       "       [  8, 176, 145, 145, 152, 161, 165, 166, 163, 158, 153, 145, 140,\n",
       "        139, 138, 134, 136, 142, 166, 174, 182, 182, 182, 190, 198, 187,\n",
       "        228, 109],\n",
       "       [  0, 160, 137, 159, 158, 159, 161, 159, 161, 158, 161, 164, 163,\n",
       "        161, 166, 167, 170, 178, 182, 177, 177, 183, 182, 187, 196, 183,\n",
       "        246,  89],\n",
       "       [  0, 167, 150, 159, 158, 164, 165, 163, 169, 167, 164, 166, 174,\n",
       "        175, 180, 178, 176, 178, 171, 176, 178, 182, 183, 188, 191, 183,\n",
       "        252,  80],\n",
       "       [  0, 165, 152, 155, 163, 167, 169, 169, 167, 171, 171, 172, 170,\n",
       "        172, 171, 169, 171, 174, 176, 182, 182, 181, 183, 181, 183, 191,\n",
       "        253,  82],\n",
       "       [  0, 164, 153, 158, 165, 169, 170, 171, 169, 170, 169, 171, 171,\n",
       "        171, 171, 174, 176, 178, 178, 183, 183, 182, 182, 185, 190, 192,\n",
       "        255,  91],\n",
       "       [  0, 163, 154, 158, 169, 169, 171, 171, 170, 170, 170, 171, 171,\n",
       "        170, 171, 175, 177, 178, 181, 183, 182, 182, 181, 185, 192, 192,\n",
       "        250,  95],\n",
       "       [  0, 156, 154, 155, 169, 167, 170, 170, 169, 170, 169, 171, 170,\n",
       "        171, 175, 177, 177, 174, 181, 182, 181, 178, 181, 187, 194, 187,\n",
       "        242,  91],\n",
       "       [  0, 166, 163, 159, 170, 169, 166, 166, 169, 170, 171, 172, 174,\n",
       "        176, 177, 177, 177, 176, 181, 180, 178, 177, 182, 187, 191, 188,\n",
       "        241,  87],\n",
       "       [  0, 170, 166, 161, 169, 170, 166, 167, 170, 171, 172, 174, 175,\n",
       "        176, 176, 176, 176, 176, 180, 178, 178, 178, 181, 183, 186, 187,\n",
       "        239,  80],\n",
       "       [  0, 171, 167, 163, 167, 169, 169, 170, 170, 171, 172, 174, 176,\n",
       "        175, 174, 175, 174, 174, 176, 177, 178, 178, 182, 185, 188, 187,\n",
       "        241,  77],\n",
       "       [  0, 171, 169, 163, 165, 170, 172, 174, 171, 172, 175, 176, 177,\n",
       "        176, 176, 176, 177, 176, 172, 175, 178, 180, 183, 186, 190, 188,\n",
       "        243,  88],\n",
       "       [  0, 169, 165, 160, 159, 161, 164, 164, 165, 164, 165, 166, 167,\n",
       "        171, 171, 170, 170, 169, 167, 171, 175, 178, 181, 181, 186, 191,\n",
       "        239,  94],\n",
       "       [  0, 197, 181, 175, 197, 201, 196, 197, 207, 204, 202, 202, 204,\n",
       "        204, 203, 202, 201, 201, 199, 194, 192, 192, 187, 186, 193, 190,\n",
       "        243, 120],\n",
       "       [  0,  72, 106, 102, 105, 111, 110, 112, 120, 125, 121, 120, 118,\n",
       "        123, 128, 131, 134, 137, 131, 136, 147, 154, 165, 171, 172, 176,\n",
       "        198,  30],\n",
       "       [  0,   0,   0,   0,   0,   0,   0,   0,   0,   0,   0,   0,   0,\n",
       "          0,   0,   0,   0,   0,   0,   0,   0,   0,   0,   0,   0,   0,\n",
       "          0,   0],\n",
       "       [  0,   0,   0,   0,   0,   0,   0,   0,   0,   0,   0,   0,   0,\n",
       "          0,   0,   0,   0,   0,   0,   0,   0,   0,   0,   0,   0,   0,\n",
       "          0,   0],\n",
       "       [  0,   0,   0,   0,   0,   0,   0,   0,   0,   0,   0,   0,   0,\n",
       "          0,   0,   0,   0,   0,   0,   0,   0,   0,   0,   0,   0,   0,\n",
       "          0,   0],\n",
       "       [  0,   0,   0,   0,   0,   0,   0,   0,   0,   0,   0,   0,   0,\n",
       "          0,   0,   0,   0,   0,   0,   0,   0,   0,   0,   0,   0,   0,\n",
       "          0,   0],\n",
       "       [  0,   0,   0,   0,   0,   0,   0,   0,   0,   0,   0,   0,   0,\n",
       "          0,   0,   0,   0,   0,   0,   0,   0,   0,   0,   0,   0,   0,\n",
       "          0,   0]], dtype=uint8)"
      ]
     },
     "execution_count": 17,
     "metadata": {},
     "output_type": "execute_result"
    }
   ],
   "source": [
    "n=1234\n",
    "x_train[n]"
   ]
  },
  {
   "cell_type": "code",
   "execution_count": 21,
   "metadata": {},
   "outputs": [
    {
     "data": {
      "text/plain": [
       "<matplotlib.image.AxesImage at 0x24b00504148>"
      ]
     },
     "execution_count": 21,
     "metadata": {},
     "output_type": "execute_result"
    },
    {
     "data": {
      "image/png": "[encoded data removed]",
      "text/plain": [
       "<Figure size 432x288 with 1 Axes>"
      ]
     },
     "metadata": {
      "needs_background": "light"
     },
     "output_type": "display_data"
    }
   ],
   "source": [
    "plt.imshow(x_train[n], cmap='Greys')"
   ]
  },
  {
   "cell_type": "code",
   "execution_count": 22,
   "metadata": {},
   "outputs": [
    {
     "name": "stdout",
     "output_type": "stream",
     "text": [
      "這是 Bag\n"
     ]
    }
   ],
   "source": [
    "print('這是', class_names[y_train[n]])"
   ]
  },
  {
   "cell_type": "code",
   "execution_count": 23,
   "metadata": {},
   "outputs": [
    {
     "data": {
      "image/png": "[encoded data removed]",
      "text/plain": [
       "<Figure size 432x288 with 5 Axes>"
      ]
     },
     "metadata": {},
     "output_type": "display_data"
    }
   ],
   "source": [
    "pick = np.random.choice(60000, 5, replace=False)\n",
    "\n",
    "for i in range(5):\n",
    "    n = pick[i]\n",
    "    ax = plt.subplot(151+i)\n",
    "    ax.set_xticks([])\n",
    "    ax.set_yticks([])\n",
    "    ax.set_title(class_names[y_train[n]], fontsize=10)\n",
    "    plt.imshow(x_train[n], cmap='Greys')  \n"
   ]
  },
  {
   "cell_type": "code",
   "execution_count": 24,
   "metadata": {},
   "outputs": [
    {
     "data": {
      "text/plain": [
       "<function ndarray.reshape>"
      ]
     },
     "execution_count": 24,
     "metadata": {},
     "output_type": "execute_result"
    }
   ],
   "source": [
    "x_train = x_train/255\n",
    "x_test = x_test/255"
   ]
  },
  {
   "cell_type": "code",
   "execution_count": 25,
   "metadata": {},
   "outputs": [],
   "source": [
    "from tensorflow.keras.utils import to_categorical"
   ]
  },
  {
   "cell_type": "code",
   "execution_count": 26,
   "metadata": {},
   "outputs": [],
   "source": [
    "y_train = to_categorical(y_train, 10)"
   ]
  },
  {
   "cell_type": "code",
   "execution_count": 27,
   "metadata": {},
   "outputs": [],
   "source": [
    "y_test = to_categorical(y_test, 10)"
   ]
  },
  {
   "cell_type": "code",
   "execution_count": 28,
   "metadata": {},
   "outputs": [],
   "source": [
    "from tensorflow.keras.models import Sequential\n",
    "from tensorflow.keras.layers import Dense\n",
    "from tensorflow.keras.optimizers import SGD"
   ]
  },
  {
   "cell_type": "code",
   "execution_count": 29,
   "metadata": {},
   "outputs": [
    {
     "data": {
      "text/plain": [
       "(60000, 28, 28)"
      ]
     },
     "execution_count": 29,
     "metadata": {},
     "output_type": "execute_result"
    }
   ],
   "source": [
    "x_train.shape"
   ]
  },
  {
   "cell_type": "code",
   "execution_count": 30,
   "metadata": {},
   "outputs": [
    {
     "name": "stdout",
     "output_type": "stream",
     "text": [
      "WARNING:tensorflow:From C:\\Users\\WINDY\\Anaconda3\\lib\\site-packages\\tensorflow_core\\python\\ops\\resource_variable_ops.py:1630: calling BaseResourceVariable.__init__ (from tensorflow.python.ops.resource_variable_ops) with constraint is deprecated and will be removed in a future version.\n",
      "Instructions for updating:\n",
      "If using Keras pass *_constraint arguments to layers.\n"
     ]
    }
   ],
   "source": [
    "model = Sequential()\n",
    "model.add(Dense(50, input_dim=784, activation='relu'))\n",
    "model.add(Dense(50, activation='relu'))\n",
    "model.add(Dense(10, activation='softmax'))"
   ]
  },
  {
   "cell_type": "code",
   "execution_count": 31,
   "metadata": {},
   "outputs": [
    {
     "name": "stdout",
     "output_type": "stream",
     "text": [
      "Model: \"sequential\"\n",
      "_________________________________________________________________\n",
      "Layer (type)                 Output Shape              Param #   \n",
      "=================================================================\n",
      "dense (Dense)                (None, 50)                39250     \n",
      "_________________________________________________________________\n",
      "dense_1 (Dense)              (None, 50)                2550      \n",
      "_________________________________________________________________\n",
      "dense_2 (Dense)              (None, 10)                510       \n",
      "=================================================================\n",
      "Total params: 42,310\n",
      "Trainable params: 42,310\n",
      "Non-trainable params: 0\n",
      "_________________________________________________________________\n"
     ]
    }
   ],
   "source": [
    "model.compile(loss='mse', optimizer=SGD(lr=0.087), metrics=['accuracy'])\n",
    "model.summary()"
   ]
  },
  {
   "cell_type": "code",
   "execution_count": 35,
   "metadata": {},
   "outputs": [
    {
     "name": "stdout",
     "output_type": "stream",
     "text": [
      "Train on 60000 samples\n",
      "Epoch 1/20\n",
      "60000/60000 [==============================] - 3s 42us/sample - loss: 0.1784 - acc: 0.1075\n",
      "Epoch 2/20\n",
      "60000/60000 [==============================] - 2s 35us/sample - loss: 0.1654 - acc: 0.1723\n",
      "Epoch 3/20\n",
      "60000/60000 [==============================] - 1s 25us/sample - loss: 0.1699 - acc: 0.1502\n",
      "Epoch 4/20\n",
      "60000/60000 [==============================] - 2s 27us/sample - loss: 0.1301 - acc: 0.3484\n",
      "Epoch 5/20\n",
      "60000/60000 [==============================] - 2s 26us/sample - loss: 0.1266 - acc: 0.3662\n",
      "Epoch 6/20\n",
      "60000/60000 [==============================] - 2s 35us/sample - loss: 0.1164 - acc: 0.4173\n",
      "Epoch 7/20\n",
      "60000/60000 [==============================] - 2s 26us/sample - loss: 0.1118 - acc: 0.4401\n",
      "Epoch 8/20\n",
      "60000/60000 [==============================] - 2s 25us/sample - loss: 0.1267 - acc: 0.3660\n",
      "Epoch 9/20\n",
      "60000/60000 [==============================] - 2s 25us/sample - loss: 0.1201 - acc: 0.3988\n",
      "Epoch 10/20\n",
      "60000/60000 [==============================] - 2s 26us/sample - loss: 0.1124 - acc: 0.4372\n",
      "Epoch 11/20\n",
      "60000/60000 [==============================] - 1s 25us/sample - loss: 0.1106 - acc: 0.4466\n",
      "Epoch 12/20\n",
      "60000/60000 [==============================] - 1s 23us/sample - loss: 0.1109 - acc: 0.4451\n",
      "Epoch 13/20\n",
      "60000/60000 [==============================] - 1s 25us/sample - loss: 0.0993 - acc: 0.50271s \n",
      "Epoch 14/20\n",
      "60000/60000 [==============================] - 1s 24us/sample - loss: 0.0943 - acc: 0.5277\n",
      "Epoch 15/20\n",
      "60000/60000 [==============================] - 1s 24us/sample - loss: 0.0938 - acc: 0.5306\n",
      "Epoch 16/20\n",
      "60000/60000 [==============================] - 2s 35us/sample - loss: 0.0919 - acc: 0.54000s - loss: 0.092\n",
      "Epoch 17/20\n",
      "60000/60000 [==============================] - 1s 25us/sample - loss: 0.0935 - acc: 0.5320\n",
      "Epoch 18/20\n",
      "60000/60000 [==============================] - 1s 25us/sample - loss: 0.0920 - acc: 0.5396\n",
      "Epoch 19/20\n",
      "60000/60000 [==============================] - 1s 24us/sample - loss: 0.0920 - acc: 0.5399\n",
      "Epoch 20/20\n",
      "60000/60000 [==============================] - 1s 24us/sample - loss: 0.0919 - acc: 0.5401\n"
     ]
    },
    {
     "data": {
      "text/plain": [
       "<tensorflow.python.keras.callbacks.History at 0x24b0095c188>"
      ]
     },
     "execution_count": 35,
     "metadata": {},
     "output_type": "execute_result"
    }
   ],
   "source": [
    "x_train = x_train.reshape(60000, 784)\n",
    "x_test = x_test.reshape(10000, 784)\n",
    "model.fit(x_train, y_train, batch_size=100, epochs=20)"
   ]
  },
  {
   "cell_type": "code",
   "execution_count": 40,
   "metadata": {
    "scrolled": true
   },
   "outputs": [
    {
     "name": "stdout",
     "output_type": "stream",
     "text": [
      "神經網路預測是: Bag\n"
     ]
    },
    {
     "data": {
      "text/plain": [
       "<matplotlib.image.AxesImage at 0x24b02c79b88>"
      ]
     },
     "execution_count": 40,
     "metadata": {},
     "output_type": "execute_result"
    },
    {
     "data": {
      "image/png": "[encoded data removed]",
      "text/plain": [
       "<Figure size 432x288 with 1 Axes>"
      ]
     },
     "metadata": {
      "needs_background": "light"
     },
     "output_type": "display_data"
    }
   ],
   "source": [
    "result = model.predict_classes(x_test)\n",
    "n = 7407\n",
    "print('神經網路預測是:', class_names[result[n]])\n",
    "plt.imshow(x_test[n].reshape(28,28), cmap='Greys')"
   ]
  },
  {
   "cell_type": "code",
   "execution_count": null,
   "metadata": {},
   "outputs": [],
   "source": []
  }
 ],
 "metadata": {
  "kernelspec": {
   "display_name": "Python 3",
   "language": "python",
   "name": "python3"
  },
  "language_info": {
   "codemirror_mode": {
    "name": "ipython",
    "version": 3
   },
   "file_extension": ".py",
   "mimetype": "text/x-python",
   "name": "python",
   "nbconvert_exporter": "python",
   "pygments_lexer": "ipython3",
   "version": "3.7.4"
  }
 },
 "nbformat": 4,
 "nbformat_minor": 2
}
