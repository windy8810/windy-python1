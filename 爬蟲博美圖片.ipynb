{
 "cells": [
  {
   "cell_type": "code",
   "execution_count": 3,
   "metadata": {},
   "outputs": [
    {
     "name": "stdout",
     "output_type": "stream",
     "text": [
      "1Hiromi_2Q==.jpg\n",
      "2Hiromi_9k=.jpg\n",
      "3Hiromi_Z.jpg\n",
      "4Hiromi_Z.jpg\n",
      "5Hiromi_Z.jpg\n",
      "6Hiromi_Z.jpg\n",
      "7Hiromi_u=3084855906,2386186906&fm=26&gp=0.jpg.jpg\n",
      "8Hiromi_u=4014689368,972927801&fm=26&gp=0.jpg.jpg\n",
      "9Hiromi_u=3240455787,1397746640&fm=26&gp=0.jpg.jpg\n",
      "10Hiromi_u=91629233,2390600291&fm=26&gp=0.jpg.jpg\n",
      "11Hiromi_u=4156337388,2528077564&fm=26&gp=0.jpg.jpg\n",
      "12Hiromi_u=1890630478,2311269118&fm=26&gp=0.jpg.jpg\n",
      "13Hiromi_u=296771658,1371478295&fm=26&gp=0.jpg.jpg\n",
      "14Hiromi_u=3292470595,3090489215&fm=26&gp=0.jpg.jpg\n",
      "15Hiromi_u=1126447616,2896405126&fm=26&gp=0.jpg.jpg\n",
      "16Hiromi_u=2350178894,39368845&fm=26&gp=0.jpg.jpg\n",
      "17Hiromi_u=2951229209,1683268604&fm=26&gp=0.jpg.jpg\n",
      "18Hiromi_u=584691701,187460561&fm=26&gp=0.jpg.jpg\n",
      "19Hiromi_u=3536703841,2324328645&fm=26&gp=0.jpg.jpg\n",
      "20Hiromi_u=1605047218,3509350518&fm=26&gp=0.jpg.jpg\n",
      "21Hiromi_u=465522272,1989726361&fm=26&gp=0.jpg.jpg\n",
      "22Hiromi_u=2684897636,1045708925&fm=26&gp=0.jpg.jpg\n",
      "23Hiromi_u=517307666,3887184681&fm=26&gp=0.jpg.jpg\n",
      "24Hiromi_u=1178285294,1412524092&fm=26&gp=0.jpg.jpg\n",
      "25Hiromi_u=3705121196,3643853306&fm=26&gp=0.jpg.jpg\n"
     ]
    }
   ],
   "source": [
    "from selenium import webdriver\n",
    "import time\n",
    "import urllib\n",
    "import os\n",
    "# 存圖位置\n",
    "local_path = 'D:\\博美犬'\n",
    "# 爬取頁面網址 \n",
    "url = 'https://image.baidu.com/search/index?tn=baiduimage&ipn=r&ct=201326592&cl=2&lm=-1&st=-1&fm=detail&fr=&hs=0&xthttps=000000&sf=1&fmq=1590162844993_R&pv=&ic=0&nc=1&z=&se=&showtab=0&fb=0&width=&height=&face=0&istype=2&ie=utf-8&word=%E5%8D%9A%E7%BE%8E%E7%8A%AC&f=3&oq=%E5%8D%9A%E7%BE%8E&rsp=0'  \n",
    "  \n",
    "# 目標元素的xpath\n",
    "xpath = '//div[@id=\"imgid\"]/div/ul/li/div/a/img'\n",
    "\n",
    "# 啟動chrome瀏覽器\n",
    "chromeDriver = r'C:\\Users\\WINDY\\Downloads\\chromedriver_win32 (5)\\chromedriver.exe' # chromedriver檔案放的位置\n",
    "driver = webdriver.Chrome(chromeDriver) \n",
    "  \n",
    "# 最大化窗口，因為每一次爬取只能看到視窗内的圖片  \n",
    "driver.maximize_window()  \n",
    "  \n",
    "# 紀錄下載過的圖片網址，避免重複下載  \n",
    "img_url_dic = {}  \n",
    "  \n",
    "# 瀏覽器打開爬取頁面\n",
    "driver.get(url)  \n",
    "  \n",
    "# 模擬滾動視窗瀏覽更多圖片\n",
    "pos = 0  \n",
    "m = 0 # 圖片編號 \n",
    "for i in range(300):  \n",
    "    pos += i*500 # 每次下滾500  \n",
    "    js = \"document.documentElement.scrollTop=%d\" % pos  \n",
    "    driver.execute_script(js)  \n",
    "    time.sleep(1)\n",
    "    \n",
    "    for element in driver.find_elements_by_xpath(xpath):\n",
    "        try:\n",
    "            img_url = element.get_attribute('src')\n",
    "            \n",
    "            # 保存圖片到指定路徑\n",
    "            if img_url != None and not img_url in img_url_dic:\n",
    "                img_url_dic[img_url] = ''  \n",
    "                m += 1\n",
    "                # print(img_url)\n",
    "                ext = img_url.split('/')[-1]\n",
    "                # print(ext)\n",
    "                filename = str(m) + 'Hiromi' + '_' + ext +'.jpg'\n",
    "                print(filename)\n",
    "                \n",
    "                # 保存圖片\n",
    "                urllib.request.urlretrieve(img_url, os.path.join(local_path , filename))\n",
    "                \n",
    "        except OSError:\n",
    "            print('發生OSError!')\n",
    "            print(pos)\n",
    "            break;\n",
    "            \n",
    "driver.close()\n"
   ]
  },
  {
   "cell_type": "code",
   "execution_count": null,
   "metadata": {},
   "outputs": [],
   "source": []
  }
 ],
 "metadata": {
  "kernelspec": {
   "display_name": "Python 3",
   "language": "python",
   "name": "python3"
  },
  "language_info": {
   "codemirror_mode": {
    "name": "ipython",
    "version": 3
   },
   "file_extension": ".py",
   "mimetype": "text/x-python",
   "name": "python",
   "nbconvert_exporter": "python",
   "pygments_lexer": "ipython3",
   "version": "3.7.4"
  }
 },
 "nbformat": 4,
 "nbformat_minor": 2
}
