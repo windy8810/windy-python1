{
 "cells": [
  {
   "cell_type": "code",
   "execution_count": 1,
   "metadata": {},
   "outputs": [
    {
     "name": "stderr",
     "output_type": "stream",
     "text": [
      "Using TensorFlow backend.\n"
     ]
    }
   ],
   "source": [
    "import os\n",
    "import glob\n",
    "import numpy as np\n",
    "from keras.preprocessing.image import  img_to_array, load_img\n",
    "from PIL import Image"
   ]
  },
  {
   "cell_type": "code",
   "execution_count": 2,
   "metadata": {},
   "outputs": [],
   "source": [
    "dict_labels = {\"巴哥犬\":0, \"彼特犬\":1,\"拉不拉多\":2,\"牧羊犬\":3,\"柯基\":4,\"馬爾濟斯\":5,\"博美犬\":6,\"貴賓犬\":7,\"黃金獵犬\":8,\"臘腸犬\":9}\n",
    "size = (64,64) #由於原始資料影像大小不一，因此制定一個統一值\n",
    "nbofdata=500   #從各個資料夾中抓取特定數量的檔案"
   ]
  },
  {
   "cell_type": "code",
   "execution_count": 3,
   "metadata": {},
   "outputs": [],
   "source": [
    "for folders in glob.glob(\"D:\\狗狗\\*\"):\n",
    "    print(folders)\n",
    "    images=[]\n",
    "    labels_hot=[]\n",
    "    labels=[]\n",
    "    nbofdata_i=1\n",
    "    for filename in os.listdir(folders):\n",
    "        if nbofdata_i <= nbofdata:\n",
    "                    label = os.path.basename(folders)\n",
    "                    className = np.asarray(label)\n",
    "                    img=load_img(os.path.join(folders,filename))\n",
    "                    img=img.resize(size,Image.BILINEAR)\n",
    "                    if img is not None:\n",
    "                        if label is not None:\n",
    "                            labels.append(className)\n",
    "                            labels_hot.append(dict_labels[label])\n",
    "                        x=img_to_array(img)\n",
    "                        images.append(x)\n",
    "                    nbofdata_i+=1\n",
    "    images=np.array(images)    \n",
    "    labels_hot=np.array(labels_hot)\n",
    "    print(\"images.shape={}, labels_hot.shape=={}\".format(images.shape, labels_hot.shape))    \n",
    "    imagesavepath='Cat_Dog_Dataset/'\n",
    "    if not os.path.exists(imagesavepath):\n",
    "        os.makedirs(imagesavepath)\n",
    "    np.save(imagesavepath+'{}_images.npy'.format(label),images)    \n",
    "    np.save(imagesavepath+'{}_label.npy'.format(label),labels)    \n",
    "    np.save(imagesavepath+'{}_labels_hot.npy'.format(label),labels_hot)\n",
    "    print('{} files has been saved.'.format(label))"
   ]
  },
  {
   "cell_type": "code",
   "execution_count": null,
   "metadata": {},
   "outputs": [],
   "source": []
  }
 ],
 "metadata": {
  "kernelspec": {
   "display_name": "Python 3",
   "language": "python",
   "name": "python3"
  },
  "language_info": {
   "codemirror_mode": {
    "name": "ipython",
    "version": 3
   },
   "file_extension": ".py",
   "mimetype": "text/x-python",
   "name": "python",
   "nbconvert_exporter": "python",
   "pygments_lexer": "ipython3",
   "version": "3.7.4"
  }
 },
 "nbformat": 4,
 "nbformat_minor": 2
}
