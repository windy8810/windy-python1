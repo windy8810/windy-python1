{
 "cells": [
  {
   "cell_type": "code",
   "execution_count": 4,
   "metadata": {},
   "outputs": [],
   "source": [
    "%matplotlib inline\n",
    "import numpy as np\n",
    "import matplotlib.pyplot as plt\n",
    "import pandas as pd\n",
    "from ipywidgets import interact_manual"
   ]
  },
  {
   "cell_type": "code",
   "execution_count": 26,
   "metadata": {},
   "outputs": [
    {
     "data": {
      "application/vnd.jupyter.widget-view+json": {
       "model_id": "09d6d831fe8f49a7aa3f67c04abf23db",
       "version_major": 2,
       "version_minor": 0
      },
      "text/plain": [
       "interactive(children=(Text(value='輸入基礎代謝率', description='基礎代謝卡路里'), Button(description='Run Interact', style=B…"
      ]
     },
     "metadata": {},
     "output_type": "display_data"
    },
    {
     "data": {
      "text/plain": [
       "<function __main__.久坐的tdee(基礎代謝卡路里)>"
      ]
     },
     "execution_count": 26,
     "metadata": {},
     "output_type": "execute_result"
    }
   ],
   "source": [
    "def 久坐的tdee(基礎代謝卡路里):\n",
    "    tedd=float(基礎代謝卡路里)*1.2\n",
    "    print(\"你的TEDD是{}大卡\".format(tedd))\n",
    "interact_manual(久坐的tdee,基礎代謝卡路里=\"輸入基礎代謝率\" )\n",
    "   "
   ]
  },
  {
   "cell_type": "code",
   "execution_count": 29,
   "metadata": {},
   "outputs": [
    {
     "data": {
      "application/vnd.jupyter.widget-view+json": {
       "model_id": "a28ba1fe74b4417a8e1bd3b48bec64ea",
       "version_major": 2,
       "version_minor": 0
      },
      "text/plain": [
       "interactive(children=(Text(value='輸入基礎代謝率', description='基礎代謝卡路里'), Button(description='Run Interact', style=B…"
      ]
     },
     "metadata": {},
     "output_type": "display_data"
    },
    {
     "data": {
      "text/plain": [
       "<function __main__.輕量活動的tdee(基礎代謝卡路里)>"
      ]
     },
     "execution_count": 29,
     "metadata": {},
     "output_type": "execute_result"
    }
   ],
   "source": [
    "def 輕量活動的tdee(基礎代謝卡路里):\n",
    "    tedd=float(基礎代謝卡路里)*1.375\n",
    "    print(\"你的TEDD是{}大卡\".format(tedd))\n",
    "interact_manual(輕量活動的tdee,基礎代謝卡路里=\"輸入基礎代謝率\" )"
   ]
  },
  {
   "cell_type": "code",
   "execution_count": 30,
   "metadata": {},
   "outputs": [
    {
     "data": {
      "application/vnd.jupyter.widget-view+json": {
       "model_id": "804d87bdffc242cbb3b7f452537e10de",
       "version_major": 2,
       "version_minor": 0
      },
      "text/plain": [
       "interactive(children=(Text(value='輸入基礎代謝率', description='基礎代謝卡路里'), Button(description='Run Interact', style=B…"
      ]
     },
     "metadata": {},
     "output_type": "display_data"
    },
    {
     "data": {
      "text/plain": [
       "<function __main__.中度活動量的tdee(基礎代謝卡路里)>"
      ]
     },
     "execution_count": 30,
     "metadata": {},
     "output_type": "execute_result"
    }
   ],
   "source": [
    "def 中度活動量的tdee(基礎代謝卡路里):\n",
    "    tedd=float(基礎代謝卡路里)*1.55\n",
    "    print(\"你的TEDD是{}大卡\".format(tedd))\n",
    "interact_manual(中度活動量的tdee,基礎代謝卡路里=\"輸入基礎代謝率\" )"
   ]
  },
  {
   "cell_type": "code",
   "execution_count": 31,
   "metadata": {},
   "outputs": [
    {
     "data": {
      "application/vnd.jupyter.widget-view+json": {
       "model_id": "c89a56a072d144ecbc1af57564ef0483",
       "version_major": 2,
       "version_minor": 0
      },
      "text/plain": [
       "interactive(children=(Text(value='輸入基礎代謝率', description='基礎代謝卡路里'), Button(description='Run Interact', style=B…"
      ]
     },
     "metadata": {},
     "output_type": "display_data"
    },
    {
     "data": {
      "text/plain": [
       "<function __main__.高度活動量的tdee(基礎代謝卡路里)>"
      ]
     },
     "execution_count": 31,
     "metadata": {},
     "output_type": "execute_result"
    }
   ],
   "source": [
    "def 高度活動量的tdee(基礎代謝卡路里):\n",
    "    tedd=float(基礎代謝卡路里)*1.725\n",
    "    print(\"你的TEDD是{}大卡\".format(tedd))\n",
    "interact_manual(高度活動量的tdee,基礎代謝卡路里=\"輸入基礎代謝率\" )"
   ]
  },
  {
   "cell_type": "code",
   "execution_count": 23,
   "metadata": {},
   "outputs": [
    {
     "ename": "IndentationError",
     "evalue": "expected an indented block (<ipython-input-23-31beca8e207a>, line 4)",
     "output_type": "error",
     "traceback": [
      "\u001b[1;36m  File \u001b[1;32m\"<ipython-input-23-31beca8e207a>\"\u001b[1;36m, line \u001b[1;32m4\u001b[0m\n\u001b[1;33m    tedd=float(基礎代謝卡路里)*1.2\u001b[0m\n\u001b[1;37m       ^\u001b[0m\n\u001b[1;31mIndentationError\u001b[0m\u001b[1;31m:\u001b[0m expected an indented block\n"
     ]
    }
   ],
   "source": [
    "\n"
   ]
  },
  {
   "cell_type": "code",
   "execution_count": null,
   "metadata": {},
   "outputs": [],
   "source": []
  }
 ],
 "metadata": {
  "kernelspec": {
   "display_name": "Python 3",
   "language": "python",
   "name": "python3"
  },
  "language_info": {
   "codemirror_mode": {
    "name": "ipython",
    "version": 3
   },
   "file_extension": ".py",
   "mimetype": "text/x-python",
   "name": "python",
   "nbconvert_exporter": "python",
   "pygments_lexer": "ipython3",
   "version": "3.7.4"
  }
 },
 "nbformat": 4,
 "nbformat_minor": 2
}
