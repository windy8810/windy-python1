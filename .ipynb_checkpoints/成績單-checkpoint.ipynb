{
 "cells": [
  {
   "cell_type": "code",
   "execution_count": 5,
   "metadata": {},
   "outputs": [],
   "source": [
    "%matplotlib inline\n",
    "import numpy as np\n",
    "import matplotlib.pyplot as plt\n",
    "import pandas as pd "
   ]
  },
  {
   "cell_type": "code",
   "execution_count": 35,
   "metadata": {},
   "outputs": [
    {
     "data": {
      "text/plain": [
       "list"
      ]
     },
     "execution_count": 35,
     "metadata": {},
     "output_type": "execute_result"
    }
   ],
   "source": [
    "x=[86.5,79.4,88.2,96.5,86.3,76,8,96.1,78.5,82.4,88.6]\n",
    "y=[\"國文\",\"英文\",\"數甲\",\"數乙\",\"物理\",\"化學\",\"生物\",\"歷史\",\"地理\",\"公民\"]\n",
    "z=[\"土語\",\"財政\",\"金融\",\"國貿\",\"會計\",\"法律\",\"公行\",\"應數\",\"教育\"]\n",
    "s=[[2, 2, 0, 1, 0, 0, 0, 1, 1, 0],[1, 1.5, 0, 1.5, 0, 0, 0, 0, 0, 0],[1, 1.5, 0, 2, 0, 0, 0, 0, 0, 0],\n",
    "[1.5, 2, 0, 2, 0, 0, 0, 0, 0, 0],[1.5, 2, 0, 2, 0, 0, 0, 1, 1, 0],\n",
    "[1, 2, 0, 1, 0, 0, 0, 1, 0, 1],\n",
    "[1, 1.5, 0, 1.25, 0, 0, 0, 0, 0, 1.25],\n",
    "[1, 1, 1.5, 0, 1, 1, 0, 0, 0, 0],\n",
    "[1.5, 2, 0, 1.25, 0, 0, 0, 1, 1, 0]]\n",
    "df=pd.DataFrame(s,index=z,columns=y)\n",
    "df\n"
   ]
  },
  {
   "cell_type": "code",
   "execution_count": 47,
   "metadata": {},
   "outputs": [
    {
     "ename": "SyntaxError",
     "evalue": "invalid syntax (<ipython-input-47-2ff01fd4c968>, line 1)",
     "output_type": "error",
     "traceback": [
      "\u001b[1;36m  File \u001b[1;32m\"<ipython-input-47-2ff01fd4c968>\"\u001b[1;36m, line \u001b[1;32m1\u001b[0m\n\u001b[1;33m    df[\"加權分數\"]= df.[y] * df.[s]\u001b[0m\n\u001b[1;37m                   ^\u001b[0m\n\u001b[1;31mSyntaxError\u001b[0m\u001b[1;31m:\u001b[0m invalid syntax\n"
     ]
    }
   ],
   "source": [
    "z_df[\"加權分數\"] = 0\n",
    "for i in course:\n",
    "    weights_df[\"加權分數\"] = weights_df[\"加權分數\"] + weights_df[i] * student.loc[\"小明\", i]\n",
    "print(weights_df)"
   ]
  },
  {
   "cell_type": "code",
   "execution_count": null,
   "metadata": {},
   "outputs": [],
   "source": []
  }
 ],
 "metadata": {
  "kernelspec": {
   "display_name": "Python 3",
   "language": "python",
   "name": "python3"
  },
  "language_info": {
   "codemirror_mode": {
    "name": "ipython",
    "version": 3
   },
   "file_extension": ".py",
   "mimetype": "text/x-python",
   "name": "python",
   "nbconvert_exporter": "python",
   "pygments_lexer": "ipython3",
   "version": "3.7.4"
  }
 },
 "nbformat": 4,
 "nbformat_minor": 2
}
