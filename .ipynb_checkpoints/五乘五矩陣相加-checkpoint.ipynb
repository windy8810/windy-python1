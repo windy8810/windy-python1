{
 "cells": [
  {
   "cell_type": "code",
   "execution_count": 1,
   "metadata": {},
   "outputs": [],
   "source": [
    "%matplotlib inline\n",
    "import numpy as np\n",
    "import matplotlib.pyplot as plt\n",
    "import pandas as pd\n"
   ]
  },
  {
   "cell_type": "code",
   "execution_count": 3,
   "metadata": {},
   "outputs": [],
   "source": [
    "m1=np.random.randn(5,5)\n",
    "m2=np.random.randn(5,5)\n"
   ]
  },
  {
   "cell_type": "code",
   "execution_count": 4,
   "metadata": {},
   "outputs": [
    {
     "name": "stdout",
     "output_type": "stream",
     "text": [
      "[[-2.74102717 -0.12145736  1.43392156  0.31674642 -1.01916201]\n",
      " [ 1.00007505  1.32169227 -1.21007418 -2.47671122 -0.83699162]\n",
      " [-1.44049317  0.88374224 -0.65390534 -2.15184972  0.94976817]\n",
      " [-0.65077225  0.45945187  1.90905428 -2.14717764  1.30825308]\n",
      " [ 2.37327813 -1.96272124  0.5644944  -1.44038002  0.84753422]]\n"
     ]
    }
   ],
   "source": [
    "print(m1+m2)"
   ]
  },
  {
   "cell_type": "code",
   "execution_count": 5,
   "metadata": {},
   "outputs": [
    {
     "data": {
      "text/plain": [
       "array([[-0.02880283, -0.45493898,  0.19585629,  0.20604642, -0.13153043],\n",
       "       [ 0.79877523,  0.54102032,  1.39231356, -1.20195743, -1.27162588],\n",
       "       [-0.7020536 ,  0.1562761 , -0.03006467, -0.30332283,  1.51480501],\n",
       "       [-0.59005904,  0.18458563,  0.43361399, -1.28058299, -0.59812335],\n",
       "       [ 1.63528468, -1.41974842,  0.43256377, -0.19585561, -0.06301906]])"
      ]
     },
     "execution_count": 5,
     "metadata": {},
     "output_type": "execute_result"
    }
   ],
   "source": [
    "m1"
   ]
  },
  {
   "cell_type": "code",
   "execution_count": 6,
   "metadata": {},
   "outputs": [
    {
     "data": {
      "text/plain": [
       "array([[-2.71222434,  0.33348162,  1.23806526,  0.11069999, -0.88763157],\n",
       "       [ 0.20129982,  0.78067194, -2.60238774, -1.27475379,  0.43463425],\n",
       "       [-0.73843957,  0.72746615, -0.62384067, -1.84852689, -0.56503683],\n",
       "       [-0.06071321,  0.27486624,  1.47544029, -0.86659464,  1.90637643],\n",
       "       [ 0.73799344, -0.54297282,  0.13193064, -1.24452441,  0.91055327]])"
      ]
     },
     "execution_count": 6,
     "metadata": {},
     "output_type": "execute_result"
    }
   ],
   "source": [
    "m2"
   ]
  },
  {
   "cell_type": "code",
   "execution_count": null,
   "metadata": {},
   "outputs": [],
   "source": []
  }
 ],
 "metadata": {
  "kernelspec": {
   "display_name": "Python 3",
   "language": "python",
   "name": "python3"
  },
  "language_info": {
   "codemirror_mode": {
    "name": "ipython",
    "version": 3
   },
   "file_extension": ".py",
   "mimetype": "text/x-python",
   "name": "python",
   "nbconvert_exporter": "python",
   "pygments_lexer": "ipython3",
   "version": "3.7.4"
  }
 },
 "nbformat": 4,
 "nbformat_minor": 2
}
