{
 "cells": [
  {
   "cell_type": "code",
   "execution_count": 23,
   "metadata": {},
   "outputs": [
    {
     "data": {
      "application/vnd.jupyter.widget-view+json": {
       "model_id": "6c32a3b31af146d7b8c003cba60d2776",
       "version_major": 2,
       "version_minor": 0
      },
      "text/plain": [
       "interactive(children=(IntSlider(value=6, description='month', max=12, min=1), IntSlider(value=16, description=…"
      ]
     },
     "metadata": {},
     "output_type": "display_data"
    },
    {
     "data": {
      "text/plain": [
       "<function __main__.a(month, date)>"
      ]
     },
     "execution_count": 23,
     "metadata": {},
     "output_type": "execute_result"
    }
   ],
   "source": [
    "from ipywidgets import interact\n",
    "\n",
    "def a(month,date):\n",
    "\n",
    "    if (month == 1 and date>=20):\n",
    "          print(\"水瓶座\")\n",
    "    elif month==2 and date<=18 :\n",
    "         print(\"水瓶座\")\n",
    "    elif (month==2 and date>=19) or (month==3 and date<=20):\n",
    "        print(\"雙魚座\")\n",
    "    elif (month==12 and date>=22) or (month==1 and date<=19):\n",
    "        print(\"摩羯座\")\n",
    "    elif(month==11 and date>=22) or (month==12 and date<=21):\n",
    "        print(\"射手座\")\n",
    "    elif(month==10 and date>=23) or (month==11 and date<=21):\n",
    "        print(\"天蠍座\")\n",
    "    elif(month==9 and date>=23) or (month==10 and date<=22):\n",
    "        print(\"天秤座\")\n",
    "    elif(month==8 and date>=23) or (month==9 and date<=22):\n",
    "        print(\"處女座\")\n",
    "    elif (month==7 and date>=23) or (month==8 and date<=22):\n",
    "        print(\"獅子座\")\n",
    "    elif (month==6 and date>=22) or (month==7 and date<=22):\n",
    "        print(\"巨蟹座\")\n",
    "    elif (month==5 and date>=21) or (month==6 and date<=21):\n",
    "        print(\"雙子座\")\n",
    "    elif (month==4 and date>=21) or (month==5 and date<=20):\n",
    "        print(\"金牛座\")\n",
    "       \n",
    "    elif (month==5 and date>=21) or (month==4 and date<=20):\n",
    "         print(\"白羊座\")\n",
    "interact(a,month=(1,12),date=(1,31))"
   ]
  },
  {
   "cell_type": "code",
   "execution_count": null,
   "metadata": {},
   "outputs": [],
   "source": []
  }
 ],
 "metadata": {
  "kernelspec": {
   "display_name": "Python 3",
   "language": "python",
   "name": "python3"
  },
  "language_info": {
   "codemirror_mode": {
    "name": "ipython",
    "version": 3
   },
   "file_extension": ".py",
   "mimetype": "text/x-python",
   "name": "python",
   "nbconvert_exporter": "python",
   "pygments_lexer": "ipython3",
   "version": "3.7.4"
  }
 },
 "nbformat": 4,
 "nbformat_minor": 2
}
